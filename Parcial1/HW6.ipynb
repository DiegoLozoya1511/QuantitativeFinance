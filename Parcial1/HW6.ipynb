{
 "cells": [
  {
   "cell_type": "markdown",
   "metadata": {},
   "source": [
    "<img style=\"float: left; margin: 30px 15px 15px 15px;\" src=\"https://oci02.img.iteso.mx/Identidades-De-Instancia/ITESO/Logos%20ITESO/Logo-ITESO-Principal.jpg\" width=\"500\" height=\"250\" /> \n",
    "    \n",
    "    \n",
    "# Homework 6\n",
    "\n",
    "- Luis Fernando Márquez Bañuelos\n",
    "- Luis Eduardo Jiménez del Muro\n",
    "- Diego Lozoya Morales"
   ]
  },
  {
   "cell_type": "markdown",
   "metadata": {},
   "source": [
    "Partiendo del supusto de que $x=S_t$, $f(x)=ln(S_t)$ y $a=S_{t_1}$, se calculan las primeras 4 derivadas de $f(x)$ para derivar el modelo 3 utilizando Itô y Taylor con $k=4$\n",
    "\n",
    "- $f'(x)     =   \\frac{1}{S_t}$\n",
    "- $f''(x)    = - \\frac{1}{S_t^2}$\n",
    "- $f'''(x)   =   \\frac{2}{S_t^3}$\n",
    "- $f^{IV}(x) = - \\frac{6}{S_t^4}$"
   ]
  },
  {
   "cell_type": "markdown",
   "metadata": {},
   "source": [
    "Tomando el modelo de expansión de Taylor para $k=4$:\n",
    "\n",
    "$$T(x) = f(a) + \\frac{f'(a)}{1!}(x - a) + \\frac{f''(a)}{2!}(x - a)^2 + \\frac{f'''(a)}{3!}(x - a)^3 + \\frac{f^{IV}(a)}{4!}(x - a)^4 + ...$$\n",
    "\n",
    "Sustituyendo las variables ya definidas, y resolviendo los factoriales:\n",
    "\n",
    "$$T(x) = f(S_{t_1}) + \\frac{f'(S_{t_1})}{1}(S_t - S_{t_1}) + \\frac{f''(S_{t_1})}{2}(S_t - S_{t_1})^2 + \\frac{f'''(S_{t_1})}{6}(S_t - S_{t_1})^3 + \\frac{f^{IV}(S_{t_1})}{24}(S_t - S_{t_1})^4 + ...$$\n",
    "\n",
    "Utilizando la propiedad $S_{t_1} \\rightarrow S_t \\Rightarrow S_t - S_{t_1} = \\Delta S_t$ y sustituyendo las variables por los valores ya calculados:\n",
    "\n",
    "$$ln(S_t) - ln(S_{t_1}) = \\frac{1}{S_{t_1}}(\\Delta S_t) - \\frac{1}{2 S_{t_1}^2}(\\Delta S_t)^2 + \\frac{1}{3 S_{t_1}^3}(\\Delta S_t)^3 - \\frac{1}{4 S_{t_1}^4}(\\Delta S_t)^4 + ...$$\n",
    "\n",
    "Con ayuda de las propiedades $ln(S_t) - ln(S_{t_1}) = \\Delta ln(S_t) \\rightarrow 0 \\Rightarrow d ln(S_t)$ y $\\Delta S_t \\rightarrow 0 \\Rightarrow d S_t$:\n",
    "\n",
    "$$d ln(S_t) = \\frac{1}{S_{t_1}}d S_t - \\frac{1}{2 S_{t_1}^2}d S_t^2 + \\frac{1}{3 S_{t_1}^3}d S_t^3 - \\frac{1}{4 S_{t_1}^4}d S_t^4 + ...$$\n",
    "\n",
    "De model 4 sabemos que $d S_t = \\mu_R S_t dt + S_t \\sigma dW_t$, lo cual sustituido queda como:\n",
    "\n",
    "$$\n",
    "d ln(S_t) = \n",
    "\\frac{1}{S_{t_1}}(\\mu_R S_t dt + S_t \\sigma dW_t) - \n",
    "\\frac{1}{2 S_{t_1}^2}(\\mu_R S_t dt + S_t \\sigma dW_t)^2 + \n",
    "\\frac{1}{3 S_{t_1}^3}(\\mu_R S_t dt + S_t \\sigma dW_t)^3 - \n",
    "\\frac{1}{4 S_{t_1}^4}(\\mu_R S_t dt + S_t \\sigma dW_t)^4 + ...\n",
    "$$\n",
    "\n",
    "$$\n",
    "d ln(S_t) = \n",
    "\\mu_R dt + \\sigma dW_t - \n",
    "\\frac{1}{2 S_{t_1}^2}(\\mu_R S_t dt + S_t \\sigma dW_t)^2 + \n",
    "\\frac{1}{3 S_{t_1}^3}(\\mu_R S_t dt + S_t \\sigma dW_t)^3 - \n",
    "\\frac{1}{4 S_{t_1}^4}(\\mu_R S_t dt + S_t \\sigma dW_t)^4 + ...\n",
    "$$"
   ]
  },
  {
   "cell_type": "markdown",
   "metadata": {},
   "source": [
    "Resolución de $dS_t^n$\n",
    "\n",
    "- Para $n=2$\n",
    "\n",
    "    $dS_t^2 = (\\mu_R S_t dt + S_t \\sigma dW_t)^2$ \n",
    "\n",
    "    $dS_t^2 = \\mu_R^2 S_t^2 dt^2 + 2(\\mu_R S_t dt)(S_t \\sigma dW_t) + S_t^2 \\sigma^2 dW_t^2$\n",
    "\n",
    "    Recordando la multiplicación de diferenciales del cálculo de Itô:\n",
    "\n",
    "    | Producto | $dt$ | $dW_t$ |\n",
    "    |:---:     |:---: |:---:   |\n",
    "    | $dt$     | 0    | 0      |\n",
    "    | $dW_t$   | 0    | $dt$   |\n",
    "\n",
    "    $dS_t^2 =  \\mu_R^2 S_t^2(0) + 2(\\mu_R S_t)(S_t \\sigma)(0) + S_t^2 \\sigma^2 dt$\n",
    "\n",
    "    $dS_t^2 = S_t^2 \\sigma^2 dt$\n",
    "\n",
    "- Para $n=3$\n",
    "\n",
    "    $dS_t^3 = dS_t^2 \\cdot dS_t$\n",
    "    \n",
    "    $dS_t^3 = S_t^2 \\sigma^2 dt \\cdot (\\mu_R S_t dt + S_t \\sigma dW_t)$\n",
    "\n",
    "    $dS_t^3 = S_t^3 \\sigma^2 \\mu_R dt^2 + S_t^3 \\sigma^3 dt dW_t$\n",
    "\n",
    "    $dS_t^3 = S_t^3 \\sigma^2 \\mu_R (0) + S_t^3 \\sigma^3 (0)$\n",
    "\n",
    "    $dS_t^3 = 0$\n",
    "\n",
    "- Para $n=4$\n",
    "\n",
    "    $dS_t^4 = dS_t^3 \\cdot dS_t$\n",
    "\n",
    "    $dS_t^4 = 0 \\cdot dS_t$\n",
    "\n",
    "    $dS_t^4 = 0$\n"
   ]
  },
  {
   "cell_type": "markdown",
   "metadata": {},
   "source": [
    "Aplicando esto a la ecuación anterior:\n",
    "\n",
    "$$d ln(S_t) = \\mu_R dt + \\sigma dW_t - \\frac{1}{2 S_{t_1}^2}(S_t^2 \\sigma^2 dt) + \\frac{1}{3 S_{t_1}^3}(0) - \\frac{1}{4 S_{t_1}^4}(0) + ...$$\n",
    "\n",
    "Se eliminan los puntos suspensibvos, ya que este comportamiento se puede generalizar\n",
    "\n",
    "$$d ln(S_t) = \\mu_R dt + \\sigma dW_t - \\frac{1}{2}(\\sigma^2 dt)$$\n",
    "\n",
    "Finalmente, factorizando por diferencial tenemos el modelo 3:\n",
    "\n",
    "$$\\boxed{d ln(S_t) = (\\mu_R - \\frac{1}{2}\\sigma^2) dt + \\sigma dW_t}\n"
   ]
  },
  {
   "cell_type": "markdown",
   "metadata": {},
   "source": []
  }
 ],
 "metadata": {
  "language_info": {
   "name": "python"
  }
 },
 "nbformat": 4,
 "nbformat_minor": 2
}
