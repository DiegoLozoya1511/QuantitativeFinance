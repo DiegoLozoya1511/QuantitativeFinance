{
 "cells": [
  {
   "cell_type": "code",
   "execution_count": 8,
   "metadata": {},
   "outputs": [],
   "source": [
    "import numpy as np\n",
    "import pandas as pd"
   ]
  },
  {
   "cell_type": "markdown",
   "metadata": {},
   "source": [
    "# Simulaciones"
   ]
  },
  {
   "cell_type": "code",
   "execution_count": 11,
   "metadata": {},
   "outputs": [
    {
     "name": "stdout",
     "output_type": "stream",
     "text": [
      "Mean: 19.2024%\n",
      "Std: 31.7534%\n",
      "\n"
     ]
    }
   ],
   "source": [
    "n = 100_000\n",
    "\n",
    "Beta = 1\n",
    "rf = 0.03\n",
    "\n",
    "alfa= pd.DataFrame(np.random.uniform(low = 0.03, high = 0.15, size=n))\n",
    "alfa.columns = ['alpha']\n",
    "\n",
    "rm = pd.DataFrame(np.random.normal(loc = 0.1, scale = np.sqrt(0.1), size=n))\n",
    "rm.columns = ['Market']\n",
    "\n",
    "R = pd.DataFrame(np.zeros(n))\n",
    "\n",
    "for i in range(n):\n",
    "     R.iloc[i, 0] = alfa.iloc[i, 0] + Beta * rm.iloc[i, 0] - Beta * rf + rf\n",
    "\n",
    "print(f\"Mean: {R.mean().values[0]:.4%}\\nStd: {R.std().values[0]:.4%}\\n\")"
   ]
  },
  {
   "cell_type": "code",
   "execution_count": null,
   "metadata": {},
   "outputs": [],
   "source": []
  }
 ],
 "metadata": {
  "kernelspec": {
   "display_name": "base",
   "language": "python",
   "name": "python3"
  },
  "language_info": {
   "codemirror_mode": {
    "name": "ipython",
    "version": 3
   },
   "file_extension": ".py",
   "mimetype": "text/x-python",
   "name": "python",
   "nbconvert_exporter": "python",
   "pygments_lexer": "ipython3",
   "version": "3.12.7"
  }
 },
 "nbformat": 4,
 "nbformat_minor": 2
}
