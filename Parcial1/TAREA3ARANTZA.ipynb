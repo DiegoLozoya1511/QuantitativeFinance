{
 "cells": [
  {
   "cell_type": "code",
   "execution_count": 2,
   "id": "d0d3a15e",
   "metadata": {},
   "outputs": [],
   "source": [
    "\n",
    "import numpy as np\n",
    "import scipy.stats as st\n",
    "import warnings\n",
    "import pandas as pd\n",
    "import numpy_financial as npf\n",
    "from scipy.stats import lognorm\n",
    "import scipy.stats \n",
    "\n"
   ]
  },
  {
   "cell_type": "markdown",
   "id": "bfdf2ba8",
   "metadata": {},
   "source": [
    "# <font color='cornflowerblue'> **Tarea 3: Valuation of Investment with distribution**\n"
   ]
  },
  {
   "cell_type": "markdown",
   "id": "5a955270",
   "metadata": {},
   "source": [
    "## **Arantza Gomez Haro Gamboa y Javier Alejandro Fajardo López**"
   ]
  },
  {
   "cell_type": "markdown",
   "id": "3759d86b",
   "metadata": {},
   "source": [
    "### <font color='cornflowerblue'> **Funciones:**"
   ]
  },
  {
   "cell_type": "code",
   "execution_count": 3,
   "id": "b6b67f02",
   "metadata": {},
   "outputs": [],
   "source": [
    "def best_fit_distribution(data, bins=200, ax=None):\n",
    "    \"\"\"Model data by finding best fit distribution to data\"\"\"\n",
    "    # Get histogram of original data\n",
    "    y, x = np.histogram(data, bins=bins, density=True)\n",
    "    x = (x + np.roll(x, -1))[:-1] / 2.0\n",
    "\n",
    "    \n",
    "    #DISTRIBUTIONS = [st.gennorm,st.genexpon,st.lognorm,st.lomax,st.maxwell,st.mielke,st.nakagami,st.ncx2,st.ncf,st.nct,st.norm,st.powerlognorm, st.uniform, st.poisson     ]\n",
    "    DISTRIBUTIONS = [st.norm, st.uniform ]\n",
    "\n",
    "    # Best holders\n",
    "    best_distribution = st.norm\n",
    "    best_params = (0.0, 1.0)\n",
    "    best_sse = np.inf\n",
    "\n",
    "    # Estimate distribution parameters from data\n",
    "    for distribution in DISTRIBUTIONS:\n",
    "\n",
    "        # Try to fit the distribution\n",
    "        try:\n",
    "            # Ignore warnings from data that can't be fit\n",
    "            with warnings.catch_warnings():\n",
    "                warnings.filterwarnings('ignore')\n",
    "\n",
    "                # fit dist to data\n",
    "                params = distribution.fit(data)\n",
    "\n",
    "                # Separate parts of parameters\n",
    "                arg = params[:-2]\n",
    "                loc = params[-2]\n",
    "                scale = params[-1]\n",
    "\n",
    "                # Calculate fitted PDF and error with fit in distribution\n",
    "                pdf = distribution.pdf(x, loc=loc, scale=scale, *arg)\n",
    "                sse = np.sum(np.power(y - pdf, 2.0))\n",
    "\n",
    "                # if axis pass in add to plot\n",
    "                try:\n",
    "                    if ax:\n",
    "                        pd.Series(pdf, x).plot(ax=ax)\n",
    "                \n",
    "                except Exception:\n",
    "                    pass\n",
    "\n",
    "                # identify if this distribution is better\n",
    "                if best_sse > sse > 0:\n",
    "                    best_distribution = distribution\n",
    "                    best_params = params\n",
    "                    best_sse = sse\n",
    "\n",
    "        except Exception:\n",
    "            pass\n",
    "\n",
    "    return (best_distribution.name, best_params)\n",
    "\n",
    "def npv_irr(data, price, prod_cost, op_cost, initial_inv, rf):\n",
    "    \n",
    "    def npv(rf, cash_flow):\n",
    "        return npf.npv(rf, cash_flow)\n",
    "\n",
    "    def irr(cash_flow):\n",
    "        return npf.irr(cash_flow) * 100\n",
    "\n",
    "    NPV = []\n",
    "    IRR = []\n",
    "\n",
    "    for i in data.to_numpy():\n",
    "        c = i * (price - prod_cost) - op_cost\n",
    "\n",
    "        cash_flow = [-initial_inv]\n",
    "        cash_flow.extend(c)\n",
    "\n",
    "        NPV.append(npv(rf, cash_flow))\n",
    "        IRR.append(irr(cash_flow))\n",
    "\n",
    "    return NPV, IRR"
   ]
  },
  {
   "cell_type": "markdown",
   "id": "0a644656",
   "metadata": {},
   "source": [
    "### <font color='cornflowerblue'> **Datos:**"
   ]
  },
  {
   "cell_type": "code",
   "execution_count": 4,
   "id": "44786808",
   "metadata": {},
   "outputs": [],
   "source": [
    "df = pd.read_csv('Data_OilCompany.csv')\n",
    "df.columns = ['year1', 'year2', 'year3', 'year4', 'year5']\n"
   ]
  },
  {
   "cell_type": "markdown",
   "id": "bea944fb",
   "metadata": {},
   "source": [
    "### <font color='cornflowerblue'> **Pregunta 1:**"
   ]
  },
  {
   "cell_type": "code",
   "execution_count": 5,
   "id": "b607f826",
   "metadata": {},
   "outputs": [
    {
     "data": {
      "text/plain": [
       "[('norm', (196593.614, 98549.90341700494)),\n",
       " ('uniform', (150096.0, 199816.0)),\n",
       " ('uniform', (1.0, 499991.0)),\n",
       " ('norm', (199999.3025, 394.1716808622228)),\n",
       " ('norm', (72628.2285, 76006.47007692362))]"
      ]
     },
     "execution_count": 5,
     "metadata": {},
     "output_type": "execute_result"
    }
   ],
   "source": [
    "df_T = df.T\n",
    "results_1=[]\n",
    "for i in df_T.to_numpy():\n",
    "    distribution = best_fit_distribution(i)\n",
    "    results_1.append(distribution)\n",
    "results_1"
   ]
  },
  {
   "cell_type": "code",
   "execution_count": 6,
   "id": "c14c1e32",
   "metadata": {},
   "outputs": [
    {
     "data": {
      "text/html": [
       "<div>\n",
       "<style scoped>\n",
       "    .dataframe tbody tr th:only-of-type {\n",
       "        vertical-align: middle;\n",
       "    }\n",
       "\n",
       "    .dataframe tbody tr th {\n",
       "        vertical-align: top;\n",
       "    }\n",
       "\n",
       "    .dataframe thead th {\n",
       "        text-align: right;\n",
       "    }\n",
       "</style>\n",
       "<table border=\"1\" class=\"dataframe\">\n",
       "  <thead>\n",
       "    <tr style=\"text-align: right;\">\n",
       "      <th></th>\n",
       "      <th>Year 1</th>\n",
       "      <th>Year 2</th>\n",
       "    </tr>\n",
       "  </thead>\n",
       "  <tbody>\n",
       "    <tr>\n",
       "      <th>Expected PS</th>\n",
       "      <td>196593.614</td>\n",
       "      <td>250004.0</td>\n",
       "    </tr>\n",
       "  </tbody>\n",
       "</table>\n",
       "</div>"
      ],
      "text/plain": [
       "                 Year 1    Year 2\n",
       "Expected PS  196593.614  250004.0"
      ]
     },
     "execution_count": 6,
     "metadata": {},
     "output_type": "execute_result"
    }
   ],
   "source": [
    "pregunta_1 = pd.DataFrame({\n",
    "    'Year 1': 196593.614,\n",
    "    'Year 2': (150096.0 + 349912)/2\n",
    "}, index =['Expected PS'])\n",
    "pregunta_1"
   ]
  },
  {
   "cell_type": "markdown",
   "id": "ab555a06",
   "metadata": {},
   "source": [
    "### <font color='cornflowerblue'> **Pregunta 2:**"
   ]
  },
  {
   "cell_type": "code",
   "execution_count": 7,
   "id": "bda64c1c",
   "metadata": {},
   "outputs": [],
   "source": [
    "rf = 0.03\n",
    "price = 5\n",
    "prod_cost = 0.80\n",
    "initial_inv = 1800000\n",
    "op_cost = 40000"
   ]
  },
  {
   "cell_type": "code",
   "execution_count": 8,
   "id": "c95ed9d6",
   "metadata": {},
   "outputs": [],
   "source": [
    "npvs_irrs = npv_irr(df, price, prod_cost, op_cost, initial_inv, rf)"
   ]
  },
  {
   "cell_type": "code",
   "execution_count": 9,
   "id": "d6aa965d",
   "metadata": {},
   "outputs": [
    {
     "data": {
      "text/plain": [
       "[('norm', (1754930.8721101417, 871671.7965944151)),\n",
       " ('norm', (35.92574471411841, 15.477616887962363))]"
      ]
     },
     "execution_count": 9,
     "metadata": {},
     "output_type": "execute_result"
    }
   ],
   "source": [
    "results_2=[]\n",
    "for i in npvs_irrs:\n",
    "    distribution = best_fit_distribution(i)\n",
    "    results_2.append(distribution)\n",
    "results_2"
   ]
  },
  {
   "cell_type": "code",
   "execution_count": 10,
   "id": "8dca82e4",
   "metadata": {},
   "outputs": [
    {
     "data": {
      "text/html": [
       "<div>\n",
       "<style scoped>\n",
       "    .dataframe tbody tr th:only-of-type {\n",
       "        vertical-align: middle;\n",
       "    }\n",
       "\n",
       "    .dataframe tbody tr th {\n",
       "        vertical-align: top;\n",
       "    }\n",
       "\n",
       "    .dataframe thead th {\n",
       "        text-align: right;\n",
       "    }\n",
       "</style>\n",
       "<table border=\"1\" class=\"dataframe\">\n",
       "  <thead>\n",
       "    <tr style=\"text-align: right;\">\n",
       "      <th></th>\n",
       "      <th>NPV</th>\n",
       "      <th>IRR</th>\n",
       "    </tr>\n",
       "  </thead>\n",
       "  <tbody>\n",
       "    <tr>\n",
       "      <th>EV</th>\n",
       "      <td>1.754931e+06</td>\n",
       "      <td>35.9200</td>\n",
       "    </tr>\n",
       "    <tr>\n",
       "      <th>Var</th>\n",
       "      <td>7.598117e+11</td>\n",
       "      <td>239.3209</td>\n",
       "    </tr>\n",
       "  </tbody>\n",
       "</table>\n",
       "</div>"
      ],
      "text/plain": [
       "              NPV       IRR\n",
       "EV   1.754931e+06   35.9200\n",
       "Var  7.598117e+11  239.3209"
      ]
     },
     "execution_count": 10,
     "metadata": {},
     "output_type": "execute_result"
    }
   ],
   "source": [
    "pregunta_2 = pd.DataFrame({\n",
    "    'NPV': [1754930.87,(871671.79)**2],\n",
    "    'IRR': [35.92,(15.47)**2]\n",
    "}, index =['EV', 'Var'])\n",
    "pregunta_2"
   ]
  },
  {
   "cell_type": "markdown",
   "id": "5ffcc5dc",
   "metadata": {},
   "source": [
    "### <font color='cornflowerblue'> **Pregunta 3:**"
   ]
  },
  {
   "cell_type": "markdown",
   "id": "171d6aa3",
   "metadata": {},
   "source": [
    "#### **Esperanza del NPV**"
   ]
  },
  {
   "cell_type": "markdown",
   "id": "854af417",
   "metadata": {},
   "source": [
    "Para obtener la esperanza del NPV, nos basaremos en la fórmula del NPV para los 5 años:\n",
    "\n",
    "$$\n",
    "NPV = \\sum_{t=1}^{5} \\frac{CF_t}{(1+r)^t} - \\text{Inversión inicial}\n",
    "$$\n",
    "\n",
    "donde $ CF_t $ se entiende como el cash flow.\n",
    "\n",
    "$$\n",
    "CF_t = \\text{Unidades}_t \\cdot (\\text{Precio} - \\text{Costo Producción}) - \\text{Costo Operacional}\n",
    "$$\n",
    "\n",
    "Donde la única variable que cambia con el tiempo son las unidades de venta."
   ]
  },
  {
   "cell_type": "markdown",
   "id": "bca5b5e8",
   "metadata": {},
   "source": [
    "Tras haber ajustado las unidades de venta por cada año de las 2,000 empresas a la distribución que mejor quedara, y tener conocimiento sobre esperanzas de variable continuas y discretas, la fórmula queda de la siguiente manera:\n",
    "\n",
    "$$\n",
    "{E}[NPV] = \\sum_{t=1}^{5} \\frac{{E}[\\text{Unidades}_t] \\cdot ({E}[\\text{Precio}] - {E}[\\text{Costo Producción}] ) - {E}[\\text{Costo Operacional}]}{(1+r)^t} - {E}[\\text{Inversión inicial}]\n",
    "$$\n",
    "\n",
    "Como la única variable aleatoria son las unidades de venta, todas las otras esperanzas se quedan con el valor fijo, y el valor de la variable aleatoria se determinará por la media de la distribución que mejor se acomodó a los datos.\n",
    "\n",
    "En caso de que la distribución sea normal, la media será el primer valor de los parámetros dados. Si es uniforme, se tomarán los dos parámetros dados y utilizando la función:\n",
    "\n",
    "$$\n",
    "\\mu = \\frac{b + a}{2}\n",
    "$$\n",
    "\n",
    "obtenemos la media."
   ]
  },
  {
   "cell_type": "markdown",
   "id": "ea00dcb7",
   "metadata": {},
   "source": [
    "Con esto, sustituimos los valores en la sumatoria y obtenemos que el resultado es:\n",
    "\n",
    "$$\n",
    "{E}[NPV] =\n",
    "\\frac{196,593.614 \\cdot (4.2) - 40,000}{(1.03)^1} +\n",
    "\\frac{250,004 \\cdot (4.2) - 40,000}{(1.03)^2} +\n",
    "\\frac{249,996.5 \\cdot (4.2) - 40,000}{(1.03)^3} +\n",
    "\\frac{199,999.302 \\cdot (4.2) - 40,000}{(1.03)^4} +\n",
    "\\frac{72,628.228 \\cdot (4.2) - 40,000}{(1.03)^5} -\n",
    "1,800,000\n",
    "$$"
   ]
  },
  {
   "cell_type": "markdown",
   "id": "23c3bf1b",
   "metadata": {},
   "source": [
    "**Resultado Final:**\n",
    "\n",
    "$$\n",
    "{E}[NPV] = 1,778,537.863\n",
    "$$\n",
    "\n",
    "<font color='cornflowerblue'>\n",
    "\n",
    "--- "
   ]
  },
  {
   "cell_type": "markdown",
   "id": "b89580cb",
   "metadata": {},
   "source": [
    "#### **Varianza del NPV**"
   ]
  },
  {
   "cell_type": "markdown",
   "id": "94a7094c",
   "metadata": {},
   "source": [
    "Para la varianza, dado que tomaremos los años como independientes entre sí, la fórmula sería:\n",
    "\n",
    "$$\n",
    "\\text{Var}[NPV] = \\sum_{t=1}^{5} \\frac{\\text{Var}(CF_t)}{(1+r)^{t}} - \\text{Var}(\\text{Inversión inicial})\n",
    "$$\n",
    "\n",
    "Pero como la varianza de una variable constante es 0, la varianza de inversión inicial se elimina, quedando:\n",
    "\n",
    "$$\n",
    "\\text{Var}[NPV] = \\sum_{t=1}^{5} \\frac{\\text{Var}(CF_t)}{(1+r)^{t}}\n",
    "$$\n",
    "\n",
    "Si expandemos la varianza del cash flow en la sumatoria, tenemos:\n",
    "\n",
    "$$\n",
    "\\text{Var}[NPV] = \\sum_{t=1}^{5} \\frac{\\text{Var}(\\text{Unidades}_t \\cdot (\\text{Precio} - \\text{Costo Producción})) - \\text{Var}(\\text{Costo Operacional})}{(1+r)^{t}}\n",
    "$$\n",
    "\n",
    "De igual forma, el costo operacional es una constante, por lo que su varianza será 0.\n",
    "\n",
    "Aprovechando la propiedad de la varianza de una variable aleatoria por una constante:\n",
    "\n",
    "$$\n",
    "\\text{Var}(aX) = a^2 \\cdot \\text{Var}(X)\n",
    "$$\n",
    "\n",
    "Podemos reescribir la fórmula de la siguiente manera:\n",
    "\n",
    "$$\n",
    "\\text{Var}[NPV] = \\sum_{t=1}^{5} \\left( \\frac{\\text{Precio} - \\text{Costo Producción}}{(1+r)^{t}} \\right)^2 \\cdot \\text{Var}(\\text{Unidades}_t)\n",
    "$$\n"
   ]
  },
  {
   "cell_type": "markdown",
   "id": "5f5da7d6",
   "metadata": {},
   "source": [
    "En caso de que la distribución sea normal, la varianza será el segundo valor de los parámetros dados al cuadrado. Si es uniforme, se tomarán los dos parámetros dados y utilizando la función:\n",
    "\n",
    "$$\n",
    "\\sigma^2 = \\left( \\frac{{(b-a)^2}}{12} \\right)$$\n",
    "\n",
    "obtenemos la varianza.\n",
    "\n",
    "Con esto, sustituimos los valores en la sumatoria y obtenemos que el resultado es:\n",
    "\n",
    "$$\n",
    "\\text{Var}[NPV] = \n",
    "\\left[ \\left( \\frac{4.2}{1.03} \\right)^2 \\cdot 9,712,083,464.50 \\right] + \n",
    "\\left[ \\left( \\frac{4.2}{(1.03)^2} \\right)^2 \\cdot 3,327,202,821 \\right] + \n",
    "\\left[ \\left( \\frac{4.2}{(1.03)^3} \\right)^2 \\cdot 20,832,583,340 \\right] + \n",
    "\\left[ \\left( \\frac{4.2}{(1.03)^4} \\right)^2 \\cdot 155,371.314 \\right] + \n",
    "\\left[ \\left( \\frac{4.2}{(1.03)^5} \\right)^2 \\cdot 5,776,983,494.55 \\right]\n",
    "$$\n"
   ]
  },
  {
   "cell_type": "markdown",
   "id": "bb0821d5",
   "metadata": {},
   "source": [
    "**Resultado Final:**\n",
    "\n",
    "$$\n",
    "Var[NPV] = 597,227,747,012.48\n",
    "$$\n",
    "\n",
    "<font color='cornflowerblue'>\n",
    "\n",
    "--- "
   ]
  },
  {
   "cell_type": "markdown",
   "id": "99e66dc3",
   "metadata": {},
   "source": [
    "### <font color='cornflowerblue'> **Pregunta 4:**"
   ]
  },
  {
   "cell_type": "markdown",
   "id": "73b3c855",
   "metadata": {},
   "source": [
    "**1. $P(X > 3)$**\n",
    "\n",
    "$$\n",
    "P\\left(z > \\frac{3 - 35.92}{15.47} \\right) = P(z > -2.12) = 0.9829\n",
    "$$\n",
    "\n",
    "**Probabilidad: 98.29\\%**\n",
    "\n",
    "<font color='cornflowerblue'>\n",
    "\n",
    "---"
   ]
  },
  {
   "cell_type": "markdown",
   "id": "0a68bc9f",
   "metadata": {},
   "source": [
    "\n",
    "**2. $ P(X > 0.35) $**\n",
    "\n",
    "$$\n",
    "P\\left(z > \\frac{35 - 35.92}{15.47} \\right) = P(z > -0.059) = 0.5235\n",
    "$$\n",
    "\n",
    "**Probabilidad: 52.35\\%**\n",
    "\n",
    "<font color='cornflowerblue'>\n",
    "\n",
    "---"
   ]
  },
  {
   "cell_type": "markdown",
   "id": "5188d36a",
   "metadata": {},
   "source": [
    "**3. $ P(X > 2,000,000) $**\n",
    "\n",
    "$$\n",
    "P\\left(z > \\frac{2,000,000 - 1,754,930.87}{871,671.79} \\right) = P(z > 0.28) = 0.3897\n",
    "$$\n",
    "\n",
    "**Probabilidad: 38.97%**\n",
    "\n",
    "<font color='cornflowerblue'>\n",
    "\n",
    "---"
   ]
  },
  {
   "cell_type": "markdown",
   "id": "792aea4f",
   "metadata": {},
   "source": [
    "**4. $ P(10 < X < 20) $**\n",
    "\n",
    "$$\n",
    "P\\left(z > \\frac{10 - 35.92}{15.47} \\right) = P(z > -1.67)\n",
    "$$\n",
    "\n",
    "$$\n",
    "P\\left(z < \\frac{20 - 35.92}{15.47} \\right) = P(z < -1.02)\n",
    "$$\n",
    "\n",
    "$$\n",
    "P(-1.67 < z < -1.02) = 0.1064\n",
    "$$\n",
    "\n",
    "**Probabilidad: 10.64%**"
   ]
  },
  {
   "cell_type": "markdown",
   "id": "3cfb580a",
   "metadata": {},
   "source": [
    "**5. Do you get same responses as in Homework 1.1?**\n",
    "\n",
    "Tras haber sacado las probabilidades con las PDF y las probabilidades determinísticas, vemos que son muy parecidas entre sí, solamente existe un poco de varianza. "
   ]
  },
  {
   "cell_type": "markdown",
   "id": "21fb4929",
   "metadata": {},
   "source": [
    "<font color='cornflowerblue'>"
   ]
  }
 ],
 "metadata": {
  "kernelspec": {
   "display_name": "base",
   "language": "python",
   "name": "python3"
  },
  "language_info": {
   "codemirror_mode": {
    "name": "ipython",
    "version": 3
   },
   "file_extension": ".py",
   "mimetype": "text/x-python",
   "name": "python",
   "nbconvert_exporter": "python",
   "pygments_lexer": "ipython3",
   "version": "3.12.7"
  }
 },
 "nbformat": 4,
 "nbformat_minor": 5
}
