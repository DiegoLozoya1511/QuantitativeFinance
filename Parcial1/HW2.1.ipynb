{
 "cells": [
  {
   "cell_type": "markdown",
   "metadata": {},
   "source": [
    "# Homework 2.1 - Maximum Likelihood (ML)\n",
    "\n",
    "Diego Lozoya Morales | 745345\n",
    "\n",
    "## Properties\n",
    "\n",
    "1. $ln(ab) = ln(a) + ln(b)$\n",
    "2. $ln(\\frac{a}{b}) = ln(a) - ln(b)$\n",
    "3. $ln(a^n) = n \\times ln(a)$\n",
    "4. $ln(e^{x_i}) = x_i$\n",
    "5. $ln(\\prod_{i=1}^n x_i) = \\sum_{i=1}^n ln(x_i)$\n",
    "6. $\\prod_{i=1}^n cx_i = c^n\\prod_{i=1}^n x_i$\n",
    "7. $\\prod_{i=1}^n e^{x_i} = e^{\\sum_{i=1}^n x_i}$\n",
    "8. $\\sum_{i=1}^n cx_i = c\\sum_{i=1}^n x_i$\n",
    "9. $\\sum_{i=1}^n c = n \\times c$\n",
    "\n",
    "---\n",
    "\n",
    "## Bernoulli Distribution\n",
    "\n",
    "### Select corresponding PDF\n",
    "\n",
    "$$P(X=x) = p^x(1-p)^{1-x}$$\n",
    "\n",
    "### Convert to ML\n",
    "\n",
    "$$L(p) = \\prod_{i=1}^n p^{x_i}(1-p)^{1-x_i}$$\n",
    "\n",
    "### Simplify product\n",
    "\n"
   ]
  },
  {
   "cell_type": "markdown",
   "metadata": {},
   "source": [
    "Let $L(p)=G$. By using property 7\n",
    "\n",
    "$$G = p^{\\sum_{i=1}^n x_i}(1-p)^{\\sum_{i=1}^n (1-x_i)}$$"
   ]
  },
  {
   "cell_type": "markdown",
   "metadata": {},
   "source": [
    "## Poisson Distribution\n",
    "\n",
    "### Select corresponding PDF\n",
    "\n",
    "$$P(X=x) = \\frac{e^{-\\lambda}\\lambda^k}{k!}$$\n",
    "\n",
    "### Convert to ML\n",
    "\n"
   ]
  },
  {
   "cell_type": "markdown",
   "metadata": {},
   "source": []
  }
 ],
 "metadata": {
  "language_info": {
   "name": "python"
  }
 },
 "nbformat": 4,
 "nbformat_minor": 2
}
