{
 "cells": [
  {
   "cell_type": "code",
   "execution_count": 1,
   "metadata": {},
   "outputs": [],
   "source": [
    "import numpy as np\n",
    "import scipy.stats as si"
   ]
  },
  {
   "cell_type": "code",
   "execution_count": 2,
   "metadata": {},
   "outputs": [],
   "source": [
    "St = 20 # Current stock price\n",
    "K = 20  # Strike price\n",
    "T = 1   # Time to maturity in years\n",
    "r = 0.05 # Risk-free interest rate\n",
    "sigma = 0.2 # Volatility of the underlying stock\n",
    "t = 0   # Current time"
   ]
  },
  {
   "cell_type": "code",
   "execution_count": 3,
   "metadata": {},
   "outputs": [
    {
     "data": {
      "text/plain": [
       "(0.35000000000000003, 0.15)"
      ]
     },
     "execution_count": 3,
     "metadata": {},
     "output_type": "execute_result"
    }
   ],
   "source": [
    "def d_1(St, K, T, t, r, sigma):\n",
    "    return (np.log(St / K) + (r + 0.5 * sigma ** 2) * (T - t)) / (sigma * np.sqrt(T - t))\n",
    "\n",
    "def d_2(St, K, T, t, r, sigma):\n",
    "    return (np.log(St / K) + (r - 0.5 * sigma ** 2) * (T - t)) / (sigma * np.sqrt(T - t))\n",
    "\n",
    "d2 = d_2(St, K, T, t, r, sigma)\n",
    "d1 = d_1(St, K, T, t, r, sigma)\n",
    "\n",
    "d1, d2"
   ]
  },
  {
   "cell_type": "code",
   "execution_count": 4,
   "metadata": {},
   "outputs": [
    {
     "data": {
      "text/plain": [
       "(0.6368306511756191, 0.5596176923702425)"
      ]
     },
     "execution_count": 4,
     "metadata": {},
     "output_type": "execute_result"
    }
   ],
   "source": [
    "def N(dn):\n",
    "    return si.norm.cdf(dn, 0, 1)\n",
    "\n",
    "N_d1 = N(d1)\n",
    "N_d2 = N(d2)\n",
    "\n",
    "N_d1, N_d2"
   ]
  },
  {
   "cell_type": "code",
   "execution_count": 5,
   "metadata": {},
   "outputs": [
    {
     "data": {
      "text/plain": [
       "(0.6368306511756191, 0.5596176923702425)"
      ]
     },
     "execution_count": 5,
     "metadata": {},
     "output_type": "execute_result"
    }
   ],
   "source": [
    "def N_d1_f(St, K, T, t, r, sigma, positive):\n",
    "    d1 = d_1(St, K, T, t, r, sigma)\n",
    "    if positive:\n",
    "        Ndn = N(d1)\n",
    "    else:\n",
    "        Ndn = N(-d1)\n",
    "    return Ndn\n",
    "\n",
    "def N_d2_f(St, K, T, t, r, sigma, positive):\n",
    "    d2 = d_2(St, K, T, t, r, sigma)\n",
    "    if positive:\n",
    "        Ndn = N(d2)\n",
    "    else:\n",
    "        Ndn = N(-d2)\n",
    "    return Ndn\n",
    "\n",
    "N_d1_total = N_d1_f(St, K, T, t, r, sigma, 1)\n",
    "N_d2_total = N_d2_f(St, K, T, t, r, sigma, 1)\n",
    "\n",
    "N_d1_total, N_d2_total"
   ]
  },
  {
   "cell_type": "markdown",
   "metadata": {},
   "source": [
    "# Binary CN"
   ]
  },
  {
   "cell_type": "code",
   "execution_count": 6,
   "metadata": {},
   "outputs": [
    {
     "data": {
      "text/plain": [
       "(8.378092180939014, 10.646496309075268)"
      ]
     },
     "execution_count": 6,
     "metadata": {},
     "output_type": "execute_result"
    }
   ],
   "source": [
    "def BinCNPut(St, K, T, t, r, sigma):\n",
    "    return K * np.exp(-r * (T - t)) * N_d2_f(St, K, T, t, r, sigma, 0)\n",
    "\n",
    "def BinCNCall(St, K, T, t, r, sigma):\n",
    "    return K * np.exp(-r * (T - t)) * N_d2_f(St, K, T, t, r, sigma, 1)\n",
    "\n",
    "BinPutCN = BinCNPut(St, K, T, t, r, sigma)\n",
    "BinCallCN = BinCNCall(St, K, T, t, r, sigma)\n",
    "\n",
    "BinPutCN, BinCallCN"
   ]
  },
  {
   "cell_type": "markdown",
   "metadata": {},
   "source": [
    "# Binary AN"
   ]
  },
  {
   "cell_type": "code",
   "execution_count": 7,
   "metadata": {},
   "outputs": [
    {
     "data": {
      "text/plain": [
       "(7.263386976487618, 12.736613023512382)"
      ]
     },
     "execution_count": 7,
     "metadata": {},
     "output_type": "execute_result"
    }
   ],
   "source": [
    "def BinANPut(St, K, T, t, r, sigma):\n",
    "    return St * N_d1_f(St, K, T, t, r, sigma, 0)\n",
    "\n",
    "def BinANCall(St, K, T, t, r, sigma):\n",
    "    return St * N_d1_f(St, K, T, t, r, sigma, 1)\n",
    "\n",
    "\n",
    "BinPutAN = BinANPut(St, K, T, t, r, sigma)\n",
    "BinCallAN = BinANCall(St, K, T, t, r, sigma)\n",
    "\n",
    "BinPutAN, BinCallAN"
   ]
  },
  {
   "cell_type": "markdown",
   "metadata": {},
   "source": [
    "# Financial options"
   ]
  },
  {
   "cell_type": "code",
   "execution_count": 8,
   "metadata": {},
   "outputs": [
    {
     "data": {
      "text/plain": [
       "(1.1147052044513952, 2.090116714437114)"
      ]
     },
     "execution_count": 8,
     "metadata": {},
     "output_type": "execute_result"
    }
   ],
   "source": [
    "def BinPut(St, K, T, t, r, sigma):\n",
    "    return BinCNPut(St, K, T, t, r, sigma) - BinANPut(St, K, T, t, r, sigma)\n",
    "\n",
    "def BinCall(St, K, T, t, r, sigma):\n",
    "    return BinANCall(St, K, T, t, r, sigma) - BinCNCall(St, K, T, t, r, sigma)\n",
    "\n",
    "put = BinPut(St, K, T, t, r, sigma)\n",
    "call = BinCall(St, K, T, t, r, sigma)\n",
    "\n",
    "put, call"
   ]
  },
  {
   "cell_type": "markdown",
   "metadata": {},
   "source": [
    "# All options"
   ]
  },
  {
   "cell_type": "code",
   "execution_count": 11,
   "metadata": {},
   "outputs": [
    {
     "name": "stdout",
     "output_type": "stream",
     "text": [
      "Binary Cash-or-Nothing Put Option Fair Price:   $8.3781\n",
      "Binary Cash-or-Nothing Call Option Fair Price:  $10.6465\n",
      "Binary Asset-or-Nothing Put Option Fair Price:  $7.2634\n",
      "Binary Asset-or-Nothing Call Option Fair Price: $12.7366\n",
      "Financial Put Option Fair Price:                $1.1147\n",
      "Financial Call Option Fair Price:               $2.0901\n"
     ]
    }
   ],
   "source": [
    "def all_options(St, K, T, t, r, sigma):\n",
    "    put_cn = BinCNPut(St, K, T, t, r, sigma)\n",
    "    call_cn = BinCNCall(St, K, T, t, r, sigma)\n",
    "    put_an = BinANPut(St, K, T, t, r, sigma)\n",
    "    call_an = BinANCall(St, K, T, t, r, sigma)\n",
    "    financial_put = put_cn - put_an\n",
    "    financial_call = call_an - call_cn\n",
    "    \n",
    "    print(f\"Binary Cash-or-Nothing Put Option Fair Price:   ${put_cn:.4f}\")\n",
    "    print(f\"Binary Cash-or-Nothing Call Option Fair Price:  ${call_cn:.4f}\")\n",
    "    print(f\"Binary Asset-or-Nothing Put Option Fair Price:  ${put_an:.4f}\")\n",
    "    print(f\"Binary Asset-or-Nothing Call Option Fair Price: ${call_an:.4f}\")\n",
    "    print(f\"Financial Put Option Fair Price:                ${financial_put:.4f}\")\n",
    "    print(f\"Financial Call Option Fair Price:               ${financial_call:.4f}\")\n",
    "\n",
    "all_options(St, K, T, t, r, sigma)"
   ]
  },
  {
   "cell_type": "code",
   "execution_count": null,
   "metadata": {},
   "outputs": [],
   "source": []
  }
 ],
 "metadata": {
  "kernelspec": {
   "display_name": "base",
   "language": "python",
   "name": "python3"
  },
  "language_info": {
   "codemirror_mode": {
    "name": "ipython",
    "version": 3
   },
   "file_extension": ".py",
   "mimetype": "text/x-python",
   "name": "python",
   "nbconvert_exporter": "python",
   "pygments_lexer": "ipython3",
   "version": "3.12.7"
  }
 },
 "nbformat": 4,
 "nbformat_minor": 2
}
